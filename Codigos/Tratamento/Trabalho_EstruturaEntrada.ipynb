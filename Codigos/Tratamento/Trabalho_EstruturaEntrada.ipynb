{
 "cells": [
  {
   "cell_type": "markdown",
   "metadata": {},
   "source": [
    "# Pacotes"
   ]
  },
  {
   "cell_type": "code",
   "execution_count": 1,
   "metadata": {},
   "outputs": [],
   "source": [
    "import numpy as np\n",
    "import pandas as pd\n",
    "import seaborn as sns\n",
    "import matplotlib.pylab as plt\n",
    "import matplotlib.ticker as ticker\n",
    "import os"
   ]
  },
  {
   "cell_type": "markdown",
   "metadata": {},
   "source": [
    "## Leitura dos dados"
   ]
  },
  {
   "cell_type": "code",
   "execution_count": 2,
   "metadata": {},
   "outputs": [],
   "source": [
    "#Apagar\n",
    "#t_path = r'C:\\Users\\debor\\OneDrive\\Propria - Estudo\\Pós-Graduação Ciencia de Dados\\Monografia\\chuvas_2014_a_2021'\n",
    "#arquivo = '\\chuvas_2019'\n",
    "#extensao = '.csv'"
   ]
  },
  {
   "cell_type": "code",
   "execution_count": 3,
   "metadata": {},
   "outputs": [],
   "source": [
    "t_path = r'C:\\Users\\debor\\OneDrive\\Propria - Estudo\\Pós-Graduação Ciencia de Dados\\Monografia\\chuvas_2014_a_2021'\n",
    "#directory = os.getcwd()\n",
    "arquivo = '\\chuvas_'\n",
    "lista_anos = ['2014','2015','2016','2017','2018','2019','2020', '2021', '202234']\n",
    "extensao = '.csv'"
   ]
  },
  {
   "cell_type": "code",
   "execution_count": 4,
   "metadata": {},
   "outputs": [],
   "source": [
    "#Apagar\n",
    "#df = pd.read_csv(t_path+arquivo+extensao                    ,sep = ','                     ,decimal='.'                      )"
   ]
  },
  {
   "cell_type": "code",
   "execution_count": 5,
   "metadata": {},
   "outputs": [],
   "source": [
    "#Apagar df.drop(['nome_estacao_original'], axis='columns', inplace=True)"
   ]
  },
  {
   "cell_type": "code",
   "execution_count": 6,
   "metadata": {},
   "outputs": [],
   "source": [
    "#Apagar\n",
    "#df = df.groupby(['tempo']).mean().reset_index()"
   ]
  },
  {
   "cell_type": "code",
   "execution_count": 7,
   "metadata": {},
   "outputs": [],
   "source": [
    "#Apagar\n",
    "#df['Ano'] = pd.DatetimeIndex(df['tempo']).year\n",
    "#df['Mes'] = pd.DatetimeIndex(df['tempo']).month\n",
    "#df['Dia'] = pd.DatetimeIndex(df['tempo']).day\n"
   ]
  },
  {
   "cell_type": "code",
   "execution_count": 8,
   "metadata": {},
   "outputs": [],
   "source": [
    "#Apagar df_aux = df.groupby(['Ano', 'Mes', 'Dia']).sum()['quinzemin'].reset_index(name='Soma_diaria')"
   ]
  },
  {
   "cell_type": "code",
   "execution_count": 9,
   "metadata": {},
   "outputs": [],
   "source": [
    "#Apagar df_acumulada_mensal_d = df_aux.groupby(['Ano', 'Mes']).sum()['Soma_diaria'].reset_index(name='Acumulada')"
   ]
  },
  {
   "cell_type": "code",
   "execution_count": 10,
   "metadata": {},
   "outputs": [],
   "source": [
    "acumulada_mensal_d = pd.DataFrame(columns = ['Ano', 'Mes','Acumulada'])\n",
    "max_mensal_d = pd.DataFrame(columns = ['Ano', 'Mes','Maximo'])\n",
    "media_mensal_d_chuva = pd.DataFrame(columns = ['Ano', 'Mes', 'Media_dias_chuva'])\n",
    "\n",
    "for ano in lista_anos:\n",
    "    #Leitura dos dados\n",
    "    df = pd.read_csv(t_path+arquivo+ano+extensao\n",
    "                     ,sep = ','\n",
    "                     ,decimal='.'\n",
    "                      )\n",
    "    # Tirar o nome da estação\n",
    "    df.drop(['nome_estacao_original'], axis='columns', inplace=True)\n",
    "    \n",
    "    # Agrupar por data e hora, pegando a média pluviométrica das estações\n",
    "    df = df.groupby(['tempo']).mean().reset_index()\n",
    "\n",
    "    # Criação das colunas relativas ao tempo\n",
    "\n",
    "    df['Ano'] = pd.DatetimeIndex(df['tempo']).year\n",
    "    df['Mes'] = pd.DatetimeIndex(df['tempo']).month\n",
    "    df['Dia'] = pd.DatetimeIndex(df['tempo']).day\n",
    "\n",
    "\n",
    "    ############## Estudo mensal\n",
    "    \n",
    "    df_aux = df.groupby(['Ano', 'Mes', 'Dia']).sum()['quinzemin'].reset_index(name='Soma_diaria')\n",
    "    \n",
    "    # Acumulada no mês de estudo\n",
    "\n",
    "    df_acumulada_mensal_d = df_aux.groupby(['Ano', 'Mes']).sum()['Soma_diaria'].reset_index(name='Acumulada')\n",
    "\n",
    "    acumulada_mensal_d = pd.concat([acumulada_mensal_d, df_acumulada_mensal_d], ignore_index=True)\n",
    "\n",
    "    del(df_acumulada_mensal_d)\n",
    "    \n",
    "    # Maximo dos dias no mês de estudo\n",
    "\n",
    "    df_max_mensal_d = df_aux.groupby(['Ano', 'Mes']).max()['Soma_diaria'].reset_index(name='Maximo')\n",
    "\n",
    "    max_mensal_d = pd.concat([max_mensal_d, df_max_mensal_d], ignore_index=True)\n",
    "\n",
    "    del(df_max_mensal_d)\n",
    "\n",
    "    # Média dos dias que houve chuva no mês de estudo\n",
    "\n",
    "    df_aux['Choveu'] = np.where(df_aux['Soma_diaria'] > 0 , 1, 0)\n",
    "    df_aux = df_aux.groupby(['Ano', 'Mes']).sum().reset_index()\n",
    "    df_aux['Media_dias_chuva'] = df_aux['Soma_diaria']/df_aux['Choveu']\n",
    "    \n",
    "    #df_Max['Max_dias_chuva'] = df_aux.groupby(['Ano', 'Mês']).max().reset_index()\n",
    "\n",
    "    media_mensal_d_chuva = pd.concat([media_mensal_d_chuva, df_aux[['Ano', 'Mes', 'Media_dias_chuva']] ], ignore_index=True)\n",
    "\n",
    "\n",
    "    del(df_aux)\n",
    "    del(df)"
   ]
  },
  {
   "cell_type": "code",
   "execution_count": 11,
   "metadata": {},
   "outputs": [
    {
     "data": {
      "text/html": [
       "<div>\n",
       "<style scoped>\n",
       "    .dataframe tbody tr th:only-of-type {\n",
       "        vertical-align: middle;\n",
       "    }\n",
       "\n",
       "    .dataframe tbody tr th {\n",
       "        vertical-align: top;\n",
       "    }\n",
       "\n",
       "    .dataframe thead th {\n",
       "        text-align: right;\n",
       "    }\n",
       "</style>\n",
       "<table border=\"1\" class=\"dataframe\">\n",
       "  <thead>\n",
       "    <tr style=\"text-align: right;\">\n",
       "      <th></th>\n",
       "      <th>Ano</th>\n",
       "      <th>Mes</th>\n",
       "      <th>Acumulada</th>\n",
       "    </tr>\n",
       "  </thead>\n",
       "  <tbody>\n",
       "    <tr>\n",
       "      <th>0</th>\n",
       "      <td>2014</td>\n",
       "      <td>1</td>\n",
       "      <td>475.692796</td>\n",
       "    </tr>\n",
       "    <tr>\n",
       "      <th>1</th>\n",
       "      <td>2014</td>\n",
       "      <td>2</td>\n",
       "      <td>45.330283</td>\n",
       "    </tr>\n",
       "    <tr>\n",
       "      <th>2</th>\n",
       "      <td>2014</td>\n",
       "      <td>3</td>\n",
       "      <td>201.104711</td>\n",
       "    </tr>\n",
       "    <tr>\n",
       "      <th>3</th>\n",
       "      <td>2014</td>\n",
       "      <td>4</td>\n",
       "      <td>251.001999</td>\n",
       "    </tr>\n",
       "    <tr>\n",
       "      <th>4</th>\n",
       "      <td>2014</td>\n",
       "      <td>5</td>\n",
       "      <td>131.428175</td>\n",
       "    </tr>\n",
       "    <tr>\n",
       "      <th>...</th>\n",
       "      <td>...</td>\n",
       "      <td>...</td>\n",
       "      <td>...</td>\n",
       "    </tr>\n",
       "    <tr>\n",
       "      <th>95</th>\n",
       "      <td>2021</td>\n",
       "      <td>11</td>\n",
       "      <td>231.901691</td>\n",
       "    </tr>\n",
       "    <tr>\n",
       "      <th>96</th>\n",
       "      <td>2022</td>\n",
       "      <td>1</td>\n",
       "      <td>94.326252</td>\n",
       "    </tr>\n",
       "    <tr>\n",
       "      <th>97</th>\n",
       "      <td>2022</td>\n",
       "      <td>2</td>\n",
       "      <td>36.812901</td>\n",
       "    </tr>\n",
       "    <tr>\n",
       "      <th>98</th>\n",
       "      <td>2022</td>\n",
       "      <td>3</td>\n",
       "      <td>102.355556</td>\n",
       "    </tr>\n",
       "    <tr>\n",
       "      <th>99</th>\n",
       "      <td>2022</td>\n",
       "      <td>4</td>\n",
       "      <td>124.484776</td>\n",
       "    </tr>\n",
       "  </tbody>\n",
       "</table>\n",
       "<p>100 rows × 3 columns</p>\n",
       "</div>"
      ],
      "text/plain": [
       "     Ano Mes   Acumulada\n",
       "0   2014   1  475.692796\n",
       "1   2014   2   45.330283\n",
       "2   2014   3  201.104711\n",
       "3   2014   4  251.001999\n",
       "4   2014   5  131.428175\n",
       "..   ...  ..         ...\n",
       "95  2021  11  231.901691\n",
       "96  2022   1   94.326252\n",
       "97  2022   2   36.812901\n",
       "98  2022   3  102.355556\n",
       "99  2022   4  124.484776\n",
       "\n",
       "[100 rows x 3 columns]"
      ]
     },
     "execution_count": 11,
     "metadata": {},
     "output_type": "execute_result"
    }
   ],
   "source": [
    "acumulada_mensal_d"
   ]
  },
  {
   "cell_type": "code",
   "execution_count": 12,
   "metadata": {},
   "outputs": [],
   "source": [
    "acumulada_mensal_d.sort_values(by=['Ano','Mes']).to_csv(t_path+'Acumuladav2'+extensao, index=False)\n",
    "max_mensal_d.sort_values(by=['Ano','Mes']).to_csv(t_path+'Maximo_dv2'+extensao, index=False)\n",
    "media_mensal_d_chuva.sort_values(by=['Ano','Mes']).to_csv(t_path+'media_mensal_d_chuvav2'+extensao, index=False)\n"
   ]
  },
  {
   "cell_type": "code",
   "execution_count": null,
   "metadata": {},
   "outputs": [],
   "source": []
  }
 ],
 "metadata": {
  "kernelspec": {
   "display_name": "Python 3",
   "language": "python",
   "name": "python3"
  },
  "language_info": {
   "codemirror_mode": {
    "name": "ipython",
    "version": 3
   },
   "file_extension": ".py",
   "mimetype": "text/x-python",
   "name": "python",
   "nbconvert_exporter": "python",
   "pygments_lexer": "ipython3",
   "version": "3.8.5"
  },
  "toc": {
   "base_numbering": 1,
   "nav_menu": {},
   "number_sections": true,
   "sideBar": true,
   "skip_h1_title": false,
   "title_cell": "Table of Contents",
   "title_sidebar": "Contents",
   "toc_cell": false,
   "toc_position": {},
   "toc_section_display": true,
   "toc_window_display": false
  }
 },
 "nbformat": 4,
 "nbformat_minor": 5
}
